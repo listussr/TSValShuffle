{
 "cells": [
  {
   "cell_type": "code",
   "execution_count": 1,
   "id": "2ac9d8d6",
   "metadata": {},
   "outputs": [
    {
     "name": "stderr",
     "output_type": "stream",
     "text": [
      "c:\\University\\kurs_3\\semestr_2\\практика\\TSValShuffle\\venv\\Lib\\site-packages\\tqdm\\auto.py:21: TqdmWarning: IProgress not found. Please update jupyter and ipywidgets. See https://ipywidgets.readthedocs.io/en/stable/user_install.html\n",
      "  from .autonotebook import tqdm as notebook_tqdm\n",
      "c:\\University\\kurs_3\\semestr_2\\практика\\TSValShuffle\\venv\\Lib\\site-packages\\symfit\\core\\printing.py:13: UserWarning: pkg_resources is deprecated as an API. See https://setuptools.pypa.io/en/latest/pkg_resources.html. The pkg_resources package is slated for removal as early as 2025-11-30. Refrain from using this package or pin to Setuptools<81.\n",
      "  import pkg_resources\n"
     ]
    }
   ],
   "source": [
    "import numpy as np\n",
    "import pandas as pd\n",
    "import matplotlib.pyplot as plt\n",
    "from ts_val_shuffle import FeaturesGenerator, Validator, MAPE, SMAPE, WAPE"
   ]
  },
  {
   "cell_type": "markdown",
   "id": "1ea6c3b6",
   "metadata": {},
   "source": [
    "## Для теста выбран датасет [Electric Production](https://www.kaggle.com/datasets/shenba/time-series-datasets/data?select=Electric_Production.csv)"
   ]
  },
  {
   "cell_type": "code",
   "execution_count": 2,
   "id": "b8520673",
   "metadata": {},
   "outputs": [
    {
     "name": "stdout",
     "output_type": "stream",
     "text": [
      "        date    value\n",
      "0 1985-01-01  72.5052\n",
      "1 1985-02-01  70.6720\n",
      "2 1985-03-01  62.4502\n",
      "3 1985-04-01  57.4714\n",
      "4 1985-05-01  55.3151\n"
     ]
    }
   ],
   "source": [
    "df = pd.read_csv(r\"data\\Electric_Production.csv\")\n",
    "\n",
    "df = df.rename(columns={\"IPG2211A2N\": \"value\", \"DATE\": \"date\"})\n",
    "\n",
    "df['date'] = pd.to_datetime(df['date'])\n",
    "print(df.head())"
   ]
  },
  {
   "cell_type": "code",
   "execution_count": 3,
   "id": "b984a23c",
   "metadata": {},
   "outputs": [
    {
     "name": "stdout",
     "output_type": "stream",
     "text": [
      "<class 'pandas.core.frame.DataFrame'>\n",
      "RangeIndex: 397 entries, 0 to 396\n",
      "Data columns (total 2 columns):\n",
      " #   Column  Non-Null Count  Dtype         \n",
      "---  ------  --------------  -----         \n",
      " 0   date    397 non-null    datetime64[ns]\n",
      " 1   value   397 non-null    float64       \n",
      "dtypes: datetime64[ns](1), float64(1)\n",
      "memory usage: 6.3 KB\n",
      "None\n"
     ]
    }
   ],
   "source": [
    "print(df.info())"
   ]
  },
  {
   "cell_type": "code",
   "execution_count": 4,
   "id": "f0ef098d",
   "metadata": {},
   "outputs": [],
   "source": [
    "train = df.iloc[:-48]\n",
    "test = df.iloc[-60:] # 60, т.к. при генерации признаков 12 первых будут отброшены"
   ]
  },
  {
   "cell_type": "markdown",
   "id": "ffaf66f4",
   "metadata": {},
   "source": [
    "## Пример с использованием ElasticNet из библиотеки sklearn"
   ]
  },
  {
   "cell_type": "markdown",
   "id": "20caa037",
   "metadata": {},
   "source": [
    "### Инициализируется валидатор\n",
    "\n",
    "Для работы нужно выполнить 3 этапа:\n",
    "1) Инициализировать исходный временный ряд;\n",
    "2) Сгенерировать признаки, передав путь к JSON файлу;\n",
    "3) Установить параметры инициализации и кросс-валидации, передав путь к JSON файлу;\n",
    "4) Провести кросс-валидацию модели, задав метрику, название целевого признака и временного признака из исходных данных"
   ]
  },
  {
   "cell_type": "code",
   "execution_count": 5,
   "id": "eac9fef4",
   "metadata": {},
   "outputs": [
    {
     "name": "stderr",
     "output_type": "stream",
     "text": [
      "c:\\University\\kurs_3\\semestr_2\\практика\\TSValShuffle\\venv\\Lib\\site-packages\\sklearn\\linear_model\\_coordinate_descent.py:695: ConvergenceWarning: Objective did not converge. You might want to increase the number of iterations, check the scale of the features or consider increasing regularisation. Duality gap: 0.000e+00, tolerance: 0.000e+00\n",
      "  model = cd_fast.enet_coordinate_descent(\n",
      "c:\\University\\kurs_3\\semestr_2\\практика\\TSValShuffle\\venv\\Lib\\site-packages\\sklearn\\linear_model\\_coordinate_descent.py:695: ConvergenceWarning: Objective did not converge. You might want to increase the number of iterations, check the scale of the features or consider increasing regularisation. Duality gap: 5.472e+00, tolerance: 5.465e+00\n",
      "  model = cd_fast.enet_coordinate_descent(\n",
      "c:\\University\\kurs_3\\semestr_2\\практика\\TSValShuffle\\venv\\Lib\\site-packages\\sklearn\\linear_model\\_coordinate_descent.py:695: ConvergenceWarning: Objective did not converge. You might want to increase the number of iterations, check the scale of the features or consider increasing regularisation. Duality gap: 6.542e+00, tolerance: 6.322e+00\n",
      "  model = cd_fast.enet_coordinate_descent(\n"
     ]
    }
   ],
   "source": [
    "val = Validator()\n",
    "\n",
    "val.set_data(train)\n",
    "val.set_generator(r\"data\\configs\\features\\config.json\")\n",
    "val.load_params(r\"data\\configs\\params\\validation_params_elastic.json\")\n",
    "val.validate()"
   ]
  },
  {
   "cell_type": "code",
   "execution_count": 6,
   "id": "45dea371",
   "metadata": {},
   "outputs": [
    {
     "name": "stdout",
     "output_type": "stream",
     "text": [
      "0     0.145687\n",
      "1     0.000652\n",
      "2     0.000288\n",
      "3     0.000532\n",
      "4     0.000321\n",
      "5     0.000326\n",
      "6     0.000394\n",
      "7     0.000435\n",
      "8     0.000335\n",
      "9     0.000251\n",
      "10    0.000223\n",
      "11    0.000334\n",
      "12    0.000239\n",
      "13    0.000232\n",
      "dtype: float64\n"
     ]
    }
   ],
   "source": [
    "print(pd.Series(val.metric_values))"
   ]
  },
  {
   "cell_type": "markdown",
   "id": "a99e1a3e",
   "metadata": {},
   "source": [
    "### Значения метрики WAPE в процессе кросс-валидации"
   ]
  },
  {
   "cell_type": "code",
   "execution_count": 7,
   "id": "bc2df9df",
   "metadata": {},
   "outputs": [
    {
     "data": {
      "image/png": "[encoded data removed]",
      "text/plain": [
       "<Figure size 640x480 with 1 Axes>"
      ]
     },
     "metadata": {},
     "output_type": "display_data"
    }
   ],
   "source": [
    "plt.plot(val.metric_values)\n",
    "plt.show()"
   ]
  },
  {
   "cell_type": "markdown",
   "id": "b0bbb8c3",
   "metadata": {},
   "source": [
    "### Генерируем признаки для теста обученной модели"
   ]
  },
  {
   "cell_type": "code",
   "execution_count": 8,
   "id": "03c26a8f",
   "metadata": {},
   "outputs": [
    {
     "name": "stdout",
     "output_type": "stream",
     "text": [
      "<class 'pandas.core.frame.DataFrame'>\n",
      "Index: 48 entries, 349 to 396\n",
      "Data columns (total 10 columns):\n",
      " #   Column        Non-Null Count  Dtype         \n",
      "---  ------        --------------  -----         \n",
      " 0   date          48 non-null     datetime64[ns]\n",
      " 1   value         48 non-null     float64       \n",
      " 2   lag_6         48 non-null     float64       \n",
      " 3   lag_12        48 non-null     float64       \n",
      " 4   diff_lag_12   48 non-null     float64       \n",
      " 5   diff_lag_6    48 non-null     float64       \n",
      " 6   std_7         48 non-null     float64       \n",
      " 7   mean_5_lag_5  48 non-null     float64       \n",
      " 8   year          48 non-null     int32         \n",
      " 9   month_cos     48 non-null     float64       \n",
      "dtypes: datetime64[ns](1), float64(8), int32(1)\n",
      "memory usage: 3.9 KB\n",
      "None\n"
     ]
    }
   ],
   "source": [
    "gen = FeaturesGenerator(r\"data\\configs\\features\\config.json\")\n",
    "test = gen.generate_features(test)\n",
    "\n",
    "print(test.info())"
   ]
  },
  {
   "cell_type": "code",
   "execution_count": 9,
   "id": "62a4dfbb",
   "metadata": {},
   "outputs": [
    {
     "name": "stdout",
     "output_type": "stream",
     "text": [
      "        lag_6    lag_12  diff_lag_12  diff_lag_6      std_7  mean_5_lag_5  \\\n",
      "349  108.1756  106.7340       6.1471      4.7055  10.423190     107.93632   \n",
      "350   99.2809  102.9948       1.7683      5.4822  10.424168     110.53152   \n",
      "351   91.7871   91.0092      -0.7225     -1.5004  11.681991     109.13180   \n",
      "352   97.2853   90.9634       1.1706     -5.1513  11.626601     104.86396   \n",
      "353  113.4732  100.6957       1.1823    -11.5952  11.297024     100.38858   \n",
      "\n",
      "     year     month_cos  \n",
      "349  2014  5.000000e-01  \n",
      "350  2014  6.123234e-17  \n",
      "351  2014 -5.000000e-01  \n",
      "352  2014 -8.660254e-01  \n",
      "353  2014 -1.000000e+00  \n"
     ]
    }
   ],
   "source": [
    "test = test.drop(columns=['date', 'value']) # приводим в вид, в котором модель обучалась\n",
    "print(test.head())"
   ]
  },
  {
   "cell_type": "markdown",
   "id": "91d27f90",
   "metadata": {},
   "source": [
    "### Предсказываем на выборке, которую модель ещё не видела"
   ]
  },
  {
   "cell_type": "code",
   "execution_count": 10,
   "id": "ebb4e7ad",
   "metadata": {},
   "outputs": [
    {
     "name": "stdout",
     "output_type": "stream",
     "text": [
      "<class 'pandas.core.frame.DataFrame'>\n",
      "RangeIndex: 48 entries, 0 to 47\n",
      "Data columns (total 1 columns):\n",
      " #   Column      Non-Null Count  Dtype  \n",
      "---  ------      --------------  -----  \n",
      " 0   prediction  48 non-null     float64\n",
      "dtypes: float64(1)\n",
      "memory usage: 516.0 bytes\n",
      "None\n"
     ]
    }
   ],
   "source": [
    "predict_params = {\n",
    "    'X': test\n",
    "}\n",
    "pred = val.predict(predict_params)\n",
    "\n",
    "print(pred.info())"
   ]
  },
  {
   "cell_type": "code",
   "execution_count": 11,
   "id": "b3e4dbef",
   "metadata": {},
   "outputs": [
    {
     "data": {
      "image/png": "[encoded data removed]",
      "text/plain": [
       "<Figure size 640x480 with 1 Axes>"
      ]
     },
     "metadata": {},
     "output_type": "display_data"
    }
   ],
   "source": [
    "plt.plot(np.arange(0, 48), pred['prediction'].values[-48:], label='Предсказанный ряд')\n",
    "plt.plot(np.arange(0, 48), df['value'][-48:], label='Истинный ряд')\n",
    "plt.legend()\n",
    "plt.show()"
   ]
  },
  {
   "cell_type": "markdown",
   "id": "b481648b",
   "metadata": {},
   "source": [
    "### Сравнение предсказанных и истинных данных"
   ]
  },
  {
   "cell_type": "code",
   "execution_count": 12,
   "id": "f5168fa4",
   "metadata": {},
   "outputs": [
    {
     "name": "stdout",
     "output_type": "stream",
     "text": [
      "         date      y_pred    y_true\n",
      "0  2014-02-01  112.832693  112.8811\n",
      "1  2014-03-01  104.746838  104.7631\n",
      "2  2014-04-01   90.306472   90.2867\n",
      "3  2014-05-01   92.145195   92.1340\n",
      "4  2014-06-01  101.889791  101.8780\n",
      "5  2014-07-01  108.578767  108.5497\n",
      "6  2014-08-01  108.197761  108.1940\n",
      "7  2014-09-01  100.420315  100.4172\n",
      "8  2014-10-01   92.386934   92.3837\n",
      "9  2014-11-01   99.681820   99.7033\n",
      "10 2014-12-01  109.358206  109.3477\n",
      "11 2015-01-01  120.265193  120.2696\n",
      "12 2015-02-01  116.338437  116.3788\n",
      "13 2015-03-01  104.468897  104.4706\n",
      "14 2015-04-01   89.766578   89.7461\n",
      "15 2015-05-01   91.123205   91.0930\n",
      "16 2015-06-01  102.656148  102.6495\n",
      "17 2015-07-01  111.623736  111.6354\n",
      "18 2015-08-01  110.581939  110.5925\n",
      "19 2015-09-01  101.917869  101.9204\n",
      "20 2015-10-01   91.608777   91.5959\n",
      "21 2015-11-01   93.109026   93.0628\n",
      "22 2015-12-01  103.257152  103.2203\n",
      "23 2016-01-01  117.085328  117.0837\n",
      "24 2016-02-01  106.731606  106.6688\n",
      "25 2016-03-01   95.426877   95.3548\n",
      "26 2016-04-01   89.343496   89.3254\n",
      "27 2016-05-01   90.752955   90.7369\n",
      "28 2016-06-01  104.027491  104.0375\n",
      "29 2016-07-01  114.517712  114.5397\n",
      "30 2016-08-01  115.465462  115.5159\n",
      "31 2016-09-01  102.750466  102.7637\n",
      "32 2016-10-01   91.495639   91.4867\n",
      "33 2016-11-01   92.897674   92.8900\n",
      "34 2016-12-01  112.693548  112.7694\n",
      "35 2017-01-01  114.856026  114.8505\n",
      "36 2017-02-01   99.560905   99.4901\n",
      "37 2017-03-01  101.011596  101.0396\n",
      "38 2017-04-01   88.376670   88.3530\n",
      "39 2017-05-01   92.082922   92.0805\n",
      "40 2017-06-01  102.180810  102.1532\n",
      "41 2017-07-01  112.165755  112.1538\n",
      "42 2017-08-01  108.953604  108.9312\n",
      "43 2017-09-01   98.648999   98.6154\n",
      "44 2017-10-01   93.602384   93.6137\n",
      "45 2017-11-01   97.307523   97.3359\n",
      "46 2017-12-01  114.683761  114.7212\n",
      "47 2018-01-01  129.274468  129.4048\n"
     ]
    }
   ],
   "source": [
    "res = pd.DataFrame({\n",
    "    'date': df['date'][-48:].values,\n",
    "    'y_pred': pred['prediction'].values[-48:],\n",
    "    'y_true': df['value'][-48:].values\n",
    "})\n",
    "print(res)"
   ]
  },
  {
   "cell_type": "markdown",
   "id": "18ba671f",
   "metadata": {},
   "source": [
    "### Значение метрики WAPE в данном случае"
   ]
  },
  {
   "cell_type": "code",
   "execution_count": 13,
   "id": "d0540bf9",
   "metadata": {},
   "outputs": [
    {
     "name": "stdout",
     "output_type": "stream",
     "text": [
      "0.0002418209506659009\n"
     ]
    }
   ],
   "source": [
    "print(WAPE(res['y_true'], res['y_pred']))"
   ]
  }
 ],
 "metadata": {
  "kernelspec": {
   "display_name": "venv",
   "language": "python",
   "name": "python3"
  },
  "language_info": {
   "codemirror_mode": {
    "name": "ipython",
    "version": 3
   },
   "file_extension": ".py",
   "mimetype": "text/x-python",
   "name": "python",
   "nbconvert_exporter": "python",
   "pygments_lexer": "ipython3",
   "version": "3.12.0"
  }
 },
 "nbformat": 4,
 "nbformat_minor": 5
}
